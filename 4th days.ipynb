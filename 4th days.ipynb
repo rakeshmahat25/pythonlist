{
 "cells": [
  {
   "cell_type": "code",
   "execution_count": 1,
   "id": "69b0177d",
   "metadata": {},
   "outputs": [],
   "source": [
    "#Append and Pop\n"
   ]
  },
  {
   "cell_type": "code",
   "execution_count": 6,
   "id": "5a4aca82",
   "metadata": {},
   "outputs": [
    {
     "data": {
      "text/plain": [
       "7"
      ]
     },
     "execution_count": 6,
     "metadata": {},
     "output_type": "execute_result"
    }
   ],
   "source": [
    "nums = [54,55,33,44,34,32,34,3,3,55,5,7]\n",
    "nums.pop()"
   ]
  },
  {
   "cell_type": "code",
   "execution_count": 7,
   "id": "11de187b",
   "metadata": {},
   "outputs": [
    {
     "data": {
      "text/plain": [
       "[54, 55, 33, 44, 34, 32, 34, 3, 3, 55, 5]"
      ]
     },
     "execution_count": 7,
     "metadata": {},
     "output_type": "execute_result"
    }
   ],
   "source": [
    "nums\n"
   ]
  },
  {
   "cell_type": "code",
   "execution_count": null,
   "id": "7075db7f",
   "metadata": {},
   "outputs": [],
   "source": [
    "print(\"Before pooping\")\n",
    "popped_num = nums"
   ]
  },
  {
   "cell_type": "code",
   "execution_count": 9,
   "id": "47cc4b7a",
   "metadata": {},
   "outputs": [
    {
     "data": {
      "text/plain": [
       "'Kamal'"
      ]
     },
     "execution_count": 9,
     "metadata": {},
     "output_type": "execute_result"
    }
   ],
   "source": [
    "names = ['Ram', 'Shyam', 'Hari', 'Kamal', 'Sita']\n",
    "names.pop(-2)"
   ]
  },
  {
   "cell_type": "markdown",
   "id": "5b4d6166",
   "metadata": {},
   "source": [
    "# Insert \n",
    "## insert function use to add the item in the certain or specific position"
   ]
  },
  {
   "cell_type": "code",
   "execution_count": 13,
   "id": "b618d2bc",
   "metadata": {},
   "outputs": [],
   "source": [
    "nums = [1, 2, 3, 4, 5, [4, 5, 6, 7, 8]]\n",
    "nums.insert(3,[422,33,44])  # first index and then value # insert(index, value)"
   ]
  },
  {
   "cell_type": "code",
   "execution_count": 12,
   "id": "8781c9d0",
   "metadata": {},
   "outputs": [
    {
     "name": "stdout",
     "output_type": "stream",
     "text": [
      "[1, 2, 3, 22, 4, 5, [4, 5, 6, 7, 8]]\n"
     ]
    }
   ],
   "source": [
    "print(nums)"
   ]
  },
  {
   "cell_type": "code",
   "execution_count": 14,
   "id": "ad50bb71",
   "metadata": {},
   "outputs": [
    {
     "data": {
      "text/plain": [
       "[1, 2, 3, [422, 33, 44], 4, 5, [4, 5, 6, 7, 8]]"
      ]
     },
     "execution_count": 14,
     "metadata": {},
     "output_type": "execute_result"
    }
   ],
   "source": [
    "nums"
   ]
  },
  {
   "cell_type": "code",
   "execution_count": 17,
   "id": "cc4d69d5",
   "metadata": {},
   "outputs": [],
   "source": [
    "jaru =[3,4,5,6,77,0,7,8,4]\n"
   ]
  },
  {
   "cell_type": "code",
   "execution_count": 18,
   "id": "a8262329",
   "metadata": {},
   "outputs": [],
   "source": [
    "jaru.clear()"
   ]
  },
  {
   "cell_type": "code",
   "execution_count": 19,
   "id": "5c37ebc8",
   "metadata": {},
   "outputs": [
    {
     "data": {
      "text/plain": [
       "[]"
      ]
     },
     "execution_count": 19,
     "metadata": {},
     "output_type": "execute_result"
    }
   ],
   "source": [
    "jaru"
   ]
  },
  {
   "cell_type": "code",
   "execution_count": 20,
   "id": "a7c1e271",
   "metadata": {},
   "outputs": [],
   "source": [
    "jaru =[3,4,5,6,77,0,7,8,4]\n"
   ]
  },
  {
   "cell_type": "code",
   "execution_count": 23,
   "id": "7e651940",
   "metadata": {},
   "outputs": [
    {
     "ename": "SyntaxError",
     "evalue": "invalid syntax (Temp/ipykernel_16180/520012428.py, line 1)",
     "output_type": "error",
     "traceback": [
      "\u001b[1;36m  File \u001b[1;32m\"C:\\Users\\rakes\\AppData\\Local\\Temp/ipykernel_16180/520012428.py\"\u001b[1;36m, line \u001b[1;32m1\u001b[0m\n\u001b[1;33m    jaru.del()\u001b[0m\n\u001b[1;37m         ^\u001b[0m\n\u001b[1;31mSyntaxError\u001b[0m\u001b[1;31m:\u001b[0m invalid syntax\n"
     ]
    }
   ],
   "source": [
    "jaru.del()"
   ]
  },
  {
   "cell_type": "code",
   "execution_count": 24,
   "id": "c9a4a1db",
   "metadata": {},
   "outputs": [
    {
     "data": {
      "text/plain": [
       "[4, 5, 6, 7, 8]"
      ]
     },
     "execution_count": 24,
     "metadata": {},
     "output_type": "execute_result"
    }
   ],
   "source": [
    "nums = [1, 2, 3, 4, 5, [4, 5, 6, 7, 8]]\n",
    "nums[5]"
   ]
  },
  {
   "cell_type": "code",
   "execution_count": 25,
   "id": "55a2409f",
   "metadata": {},
   "outputs": [],
   "source": [
    "nums[5].insert(3,[20,30])"
   ]
  },
  {
   "cell_type": "code",
   "execution_count": 26,
   "id": "d374adf1",
   "metadata": {},
   "outputs": [
    {
     "data": {
      "text/plain": [
       "[1, 2, 3, 4, 5, [4, 5, 6, [20, 30], 7, 8]]"
      ]
     },
     "execution_count": 26,
     "metadata": {},
     "output_type": "execute_result"
    }
   ],
   "source": [
    "nums"
   ]
  },
  {
   "cell_type": "code",
   "execution_count": 27,
   "id": "f0c3f140",
   "metadata": {},
   "outputs": [
    {
     "data": {
      "text/plain": [
       "[20, 30]"
      ]
     },
     "execution_count": 27,
     "metadata": {},
     "output_type": "execute_result"
    }
   ],
   "source": [
    "nums[5].pop(3)"
   ]
  },
  {
   "cell_type": "code",
   "execution_count": 28,
   "id": "1c59f25b",
   "metadata": {},
   "outputs": [
    {
     "data": {
      "text/plain": [
       "[1, 2, 3, 4, 5, [4, 5, 6, 7, 8]]"
      ]
     },
     "execution_count": 28,
     "metadata": {},
     "output_type": "execute_result"
    }
   ],
   "source": [
    "nums"
   ]
  },
  {
   "cell_type": "code",
   "execution_count": 29,
   "id": "869eab1b",
   "metadata": {},
   "outputs": [],
   "source": [
    "nums[5].insert(3,[20,30])"
   ]
  },
  {
   "cell_type": "code",
   "execution_count": 30,
   "id": "13a16eb6",
   "metadata": {},
   "outputs": [
    {
     "data": {
      "text/plain": [
       "['__add__',\n",
       " '__class__',\n",
       " '__class_getitem__',\n",
       " '__contains__',\n",
       " '__delattr__',\n",
       " '__delitem__',\n",
       " '__dir__',\n",
       " '__doc__',\n",
       " '__eq__',\n",
       " '__format__',\n",
       " '__ge__',\n",
       " '__getattribute__',\n",
       " '__getitem__',\n",
       " '__gt__',\n",
       " '__hash__',\n",
       " '__iadd__',\n",
       " '__imul__',\n",
       " '__init__',\n",
       " '__init_subclass__',\n",
       " '__iter__',\n",
       " '__le__',\n",
       " '__len__',\n",
       " '__lt__',\n",
       " '__mul__',\n",
       " '__ne__',\n",
       " '__new__',\n",
       " '__reduce__',\n",
       " '__reduce_ex__',\n",
       " '__repr__',\n",
       " '__reversed__',\n",
       " '__rmul__',\n",
       " '__setattr__',\n",
       " '__setitem__',\n",
       " '__sizeof__',\n",
       " '__str__',\n",
       " '__subclasshook__',\n",
       " 'append',\n",
       " 'clear',\n",
       " 'copy',\n",
       " 'count',\n",
       " 'extend',\n",
       " 'index',\n",
       " 'insert',\n",
       " 'pop',\n",
       " 'remove',\n",
       " 'reverse',\n",
       " 'sort']"
      ]
     },
     "execution_count": 30,
     "metadata": {},
     "output_type": "execute_result"
    }
   ],
   "source": [
    "dir(nums)"
   ]
  },
  {
   "cell_type": "code",
   "execution_count": 32,
   "id": "2ad5cc6c",
   "metadata": {},
   "outputs": [
    {
     "data": {
      "text/plain": [
       "1"
      ]
     },
     "execution_count": 32,
     "metadata": {},
     "output_type": "execute_result"
    }
   ],
   "source": [
    "nums.count(3)"
   ]
  },
  {
   "cell_type": "code",
   "execution_count": 34,
   "id": "98f5a69b",
   "metadata": {},
   "outputs": [
    {
     "data": {
      "text/plain": [
       "7"
      ]
     },
     "execution_count": 34,
     "metadata": {},
     "output_type": "execute_result"
    }
   ],
   "source": [
    "list1 = [22,3,3,4,3,2,4,5,56,6,5,4,4,4,43,3,3,3,3]\n",
    "list1.count(3)"
   ]
  },
  {
   "cell_type": "code",
   "execution_count": 38,
   "id": "3e4fc3d5",
   "metadata": {},
   "outputs": [
    {
     "ename": "TypeError",
     "evalue": "'int' object is not iterable",
     "output_type": "error",
     "traceback": [
      "\u001b[1;31m---------------------------------------------------------------------------\u001b[0m",
      "\u001b[1;31mTypeError\u001b[0m                                 Traceback (most recent call last)",
      "\u001b[1;32m~\\AppData\\Local\\Temp/ipykernel_16180/2457803945.py\u001b[0m in \u001b[0;36m<module>\u001b[1;34m\u001b[0m\n\u001b[1;32m----> 1\u001b[1;33m \u001b[0mlist\u001b[0m\u001b[1;33m.\u001b[0m\u001b[0mextend\u001b[0m\u001b[1;33m(\u001b[0m\u001b[1;36m4\u001b[0m\u001b[1;33m)\u001b[0m\u001b[1;33m\u001b[0m\u001b[1;33m\u001b[0m\u001b[0m\n\u001b[0m",
      "\u001b[1;31mTypeError\u001b[0m: 'int' object is not iterable"
     ]
    }
   ],
   "source": [
    "list.extend(4)"
   ]
  },
  {
   "cell_type": "code",
   "execution_count": 1,
   "id": "25460467",
   "metadata": {},
   "outputs": [],
   "source": [
    "list1 =[4,6,7]\n",
    "list2 = [4,2,3]\n",
    "list1.extend(list2)"
   ]
  },
  {
   "cell_type": "code",
   "execution_count": 2,
   "id": "fc9401f2",
   "metadata": {},
   "outputs": [
    {
     "data": {
      "text/plain": [
       "[4, 6, 7, 4, 2, 3]"
      ]
     },
     "execution_count": 2,
     "metadata": {},
     "output_type": "execute_result"
    }
   ],
   "source": [
    "list1"
   ]
  },
  {
   "cell_type": "code",
   "execution_count": 3,
   "id": "98a76cc5",
   "metadata": {},
   "outputs": [
    {
     "ename": "TypeError",
     "evalue": "object of type 'type' has no len()",
     "output_type": "error",
     "traceback": [
      "\u001b[1;31m---------------------------------------------------------------------------\u001b[0m",
      "\u001b[1;31mTypeError\u001b[0m                                 Traceback (most recent call last)",
      "\u001b[1;32m~\\AppData\\Local\\Temp/ipykernel_1544/3048887146.py\u001b[0m in \u001b[0;36m<module>\u001b[1;34m\u001b[0m\n\u001b[1;32m----> 1\u001b[1;33m \u001b[0mlen\u001b[0m\u001b[1;33m(\u001b[0m\u001b[0mlist\u001b[0m\u001b[1;33m)\u001b[0m\u001b[1;33m\u001b[0m\u001b[1;33m\u001b[0m\u001b[0m\n\u001b[0m",
      "\u001b[1;31mTypeError\u001b[0m: object of type 'type' has no len()"
     ]
    }
   ],
   "source": [
    "len(list)"
   ]
  },
  {
   "cell_type": "code",
   "execution_count": 39,
   "id": "d4c5522a",
   "metadata": {},
   "outputs": [
    {
     "data": {
      "text/plain": [
       "3"
      ]
     },
     "execution_count": 39,
     "metadata": {},
     "output_type": "execute_result"
    }
   ],
   "source": [
    "list.index(4)"
   ]
  },
  {
   "cell_type": "code",
   "execution_count": 40,
   "id": "8ff57d70",
   "metadata": {},
   "outputs": [],
   "source": [
    "list.remove(3)"
   ]
  },
  {
   "cell_type": "code",
   "execution_count": 41,
   "id": "bb0ffb95",
   "metadata": {},
   "outputs": [
    {
     "data": {
      "text/plain": [
       "[22, 3, 4, 3, 2, 4, 5, 56, 6, 5, 4, 4, 4, 43, 3, 3, 3, 3]"
      ]
     },
     "execution_count": 41,
     "metadata": {},
     "output_type": "execute_result"
    }
   ],
   "source": [
    "list"
   ]
  },
  {
   "cell_type": "code",
   "execution_count": 51,
   "id": "eac307da",
   "metadata": {},
   "outputs": [
    {
     "data": {
      "text/plain": [
       "[4, 6, 7, 4, 2, 3]"
      ]
     },
     "execution_count": 51,
     "metadata": {},
     "output_type": "execute_result"
    }
   ],
   "source": [
    "list1"
   ]
  },
  {
   "cell_type": "code",
   "execution_count": 52,
   "id": "3a568cff",
   "metadata": {},
   "outputs": [],
   "source": [
    "newlist = list1.copy()"
   ]
  },
  {
   "cell_type": "code",
   "execution_count": 53,
   "id": "7db5f7c8",
   "metadata": {},
   "outputs": [
    {
     "data": {
      "text/plain": [
       "[4, 6, 7, 4, 2, 3]"
      ]
     },
     "execution_count": 53,
     "metadata": {},
     "output_type": "execute_result"
    }
   ],
   "source": [
    "newlist"
   ]
  },
  {
   "cell_type": "code",
   "execution_count": 4,
   "id": "4905e1e5",
   "metadata": {},
   "outputs": [],
   "source": [
    "newlist2 = list(list1)"
   ]
  },
  {
   "cell_type": "code",
   "execution_count": 5,
   "id": "4451d82b",
   "metadata": {},
   "outputs": [
    {
     "data": {
      "text/plain": [
       "[4, 6, 7, 4, 2, 3]"
      ]
     },
     "execution_count": 5,
     "metadata": {},
     "output_type": "execute_result"
    }
   ],
   "source": [
    "newlist2"
   ]
  },
  {
   "cell_type": "code",
   "execution_count": 6,
   "id": "5c9f0591",
   "metadata": {},
   "outputs": [],
   "source": [
    "a= 12\n",
    "b=a"
   ]
  },
  {
   "cell_type": "code",
   "execution_count": 8,
   "id": "6d26f368",
   "metadata": {},
   "outputs": [
    {
     "data": {
      "text/plain": [
       "True"
      ]
     },
     "execution_count": 8,
     "metadata": {},
     "output_type": "execute_result"
    }
   ],
   "source": [
    "list1 == newlist2\n"
   ]
  },
  {
   "cell_type": "code",
   "execution_count": 15,
   "id": "f5efe447",
   "metadata": {},
   "outputs": [],
   "source": [
    "list3 =[\"He\",4,3,2,2,4,5,3,32,4]"
   ]
  },
  {
   "cell_type": "code",
   "execution_count": 12,
   "id": "7fe7cf40",
   "metadata": {},
   "outputs": [
    {
     "data": {
      "text/plain": [
       "3"
      ]
     },
     "execution_count": 12,
     "metadata": {},
     "output_type": "execute_result"
    }
   ],
   "source": [
    "list3.index(2)"
   ]
  },
  {
   "cell_type": "code",
   "execution_count": 13,
   "id": "4e28d92d",
   "metadata": {},
   "outputs": [
    {
     "data": {
      "text/plain": [
       "2"
      ]
     },
     "execution_count": 13,
     "metadata": {},
     "output_type": "execute_result"
    }
   ],
   "source": [
    "list3.index(3)"
   ]
  },
  {
   "cell_type": "code",
   "execution_count": 16,
   "id": "8e434240",
   "metadata": {},
   "outputs": [
    {
     "ename": "ValueError",
     "evalue": "1 is not in list",
     "output_type": "error",
     "traceback": [
      "\u001b[1;31m---------------------------------------------------------------------------\u001b[0m",
      "\u001b[1;31mValueError\u001b[0m                                Traceback (most recent call last)",
      "\u001b[1;32m~\\AppData\\Local\\Temp/ipykernel_1544/1702570619.py\u001b[0m in \u001b[0;36m<module>\u001b[1;34m\u001b[0m\n\u001b[1;32m----> 1\u001b[1;33m \u001b[0mlist3\u001b[0m\u001b[1;33m.\u001b[0m\u001b[0mindex\u001b[0m\u001b[1;33m(\u001b[0m\u001b[1;36m1\u001b[0m\u001b[1;33m)\u001b[0m\u001b[1;33m\u001b[0m\u001b[1;33m\u001b[0m\u001b[0m\n\u001b[0m",
      "\u001b[1;31mValueError\u001b[0m: 1 is not in list"
     ]
    }
   ],
   "source": [
    "list3.index(1)"
   ]
  },
  {
   "cell_type": "markdown",
   "id": "0173d750",
   "metadata": {},
   "source": [
    "# index function show the index of the value  and show only the first number index it it is duplicate"
   ]
  },
  {
   "cell_type": "code",
   "execution_count": 17,
   "id": "a07de8f2",
   "metadata": {},
   "outputs": [
    {
     "name": "stdout",
     "output_type": "stream",
     "text": [
      "2857694965376\n"
     ]
    }
   ],
   "source": [
    "a =[3.5,5,6,7]\n",
    "b =[2,4,4]\n",
    "print(id(a))"
   ]
  },
  {
   "cell_type": "code",
   "execution_count": 18,
   "id": "139e3b35",
   "metadata": {},
   "outputs": [
    {
     "name": "stdout",
     "output_type": "stream",
     "text": [
      "2857694939264\n"
     ]
    }
   ],
   "source": [
    "print(id(b))"
   ]
  },
  {
   "cell_type": "code",
   "execution_count": 19,
   "id": "ee8ad7c6",
   "metadata": {},
   "outputs": [],
   "source": [
    "c =a"
   ]
  },
  {
   "cell_type": "code",
   "execution_count": 20,
   "id": "f7cca6aa",
   "metadata": {},
   "outputs": [
    {
     "name": "stdout",
     "output_type": "stream",
     "text": [
      "2857694965376\n"
     ]
    }
   ],
   "source": [
    "print(id(c))"
   ]
  },
  {
   "cell_type": "code",
   "execution_count": null,
   "id": "137ad9c9",
   "metadata": {},
   "outputs": [],
   "source": [
    "#id Means simply the location"
   ]
  },
  {
   "cell_type": "code",
   "execution_count": null,
   "id": "ac3e7648",
   "metadata": {},
   "outputs": [],
   "source": []
  }
 ],
 "metadata": {
  "kernelspec": {
   "display_name": "Python 3 (ipykernel)",
   "language": "python",
   "name": "python3"
  },
  "language_info": {
   "codemirror_mode": {
    "name": "ipython",
    "version": 3
   },
   "file_extension": ".py",
   "mimetype": "text/x-python",
   "name": "python",
   "nbconvert_exporter": "python",
   "pygments_lexer": "ipython3",
   "version": "3.9.7"
  }
 },
 "nbformat": 4,
 "nbformat_minor": 5
}
